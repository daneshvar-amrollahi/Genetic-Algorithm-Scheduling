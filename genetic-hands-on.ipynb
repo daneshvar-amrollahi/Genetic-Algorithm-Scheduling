{
 "cells": [
  {
   "cell_type": "markdown",
   "metadata": {},
   "source": [
    "<h1 style = \"font-size: 30px; text-align: center;\">AI Genetic Hands On</h1>\n",
    "<h2 style = \"font-size: 25px; text-align: center;\">Hospital Job Scheduling</h2>\n",
    "<h2 style = \"font-size: 25px; text-align: center; color: #666\">Name: Daneshvar Amrollahi</h2>\n",
    "<h2 style = \"font-size: 25px; text-align: center; color: #666\">Student Id: 810197685</h2>\n",
    "<h4 style=\"text-align: center\">Spring 1400</h4>"
   ]
  },
  {
   "cell_type": "markdown",
   "metadata": {},
   "source": [
    "<h2 style = \"font-size: 25px;\">Notes</h2>\n",
    "\n",
    "<h3>Tests: </h3>\n",
    "\n",
    "<p style=\"text-indent :2em;\"><b>Test1: </b><mark>Average time < 15s</mark></p>\n",
    "<p style=\"text-indent :2em;\"><b>Test2: </b><mark>Average time < 60s</mark></p>\n",
    "    \n",
    "\n",
    "<h3>Outputs: </h3>\n",
    "<p style=\"text-indent :2em;\">Respectively <mark>output1.txt</mark> and <mark>output2.txt</mark></p>\n",
    "\n",
    "<br>"
   ]
  },
  {
   "cell_type": "markdown",
   "metadata": {},
   "source": [
    "<h2 style = \"font-size: 25px;\">Test Files</h2>"
   ]
  },
  {
   "cell_type": "code",
   "execution_count": 1,
   "metadata": {},
   "outputs": [],
   "source": [
    "testFile1 = \"test1.txt\"\n",
    "testFile2 = \"test2.txt\""
   ]
  },
  {
   "cell_type": "markdown",
   "metadata": {},
   "source": [
    "<h2 style = \"font-size: 25px;\">Reading Test File Content</h2>"
   ]
  },
  {
   "cell_type": "code",
   "execution_count": 115,
   "metadata": {},
   "outputs": [],
   "source": [
    "def readInput(testFile) :\n",
    "    file = open(testFile, 'r+')\n",
    "    fileList = file.readlines()\n",
    "    fileList = [s.replace('\\n', '') for s in fileList]\n",
    "    \n",
    "    [days, doctors] = [int(i) for i in fileList[0].split()]\n",
    "    maxCapacity = int(fileList[1])\n",
    "    \n",
    "    allShifts = []\n",
    "    for i in range(2, days + 2):\n",
    "        dayRequirements = fileList[i].split()\n",
    "        morningReqs = [int(i) for i in dayRequirements[0].split(\",\")]\n",
    "        eveningReqs = [int(i) for i in dayRequirements[1].split(\",\")]\n",
    "        nightReqs = [int(i) for i in dayRequirements[2].split(\",\")]\n",
    "        \n",
    "        allShifts.append((morningReqs, eveningReqs, nightReqs))\n",
    "\n",
    "    file.close()\n",
    "    return [days, list(range(doctors)), maxCapacity, allShifts]"
   ]
  },
  {
   "cell_type": "markdown",
   "metadata": {},
   "source": [
    "<h2 style = \"font-size: 25px;\">Job Scheduler</h2>"
   ]
  },
  {
   "cell_type": "code",
   "execution_count": 165,
   "metadata": {},
   "outputs": [],
   "source": [
    "from random import choice\n",
    "import random\n",
    "from math import floor\n",
    "\n",
    "class JobScheduler:\n",
    "    def __init__(self, fileInfo):\n",
    "        self.days = fileInfo[0]\n",
    "        self.doctors = len(fileInfo[1])\n",
    "        self.doctorsIds = fileInfo[1]\n",
    "        self.maxCapacity = fileInfo[2]\n",
    "        self.allShifts = fileInfo[3]\n",
    "        \n",
    "        \n",
    "\n",
    "        # You can use these values for your genetic algorithm\n",
    "        self.popSize = 300\n",
    "        self.crossOverPoints = (self.doctors // 5)\n",
    "        self.elitismPercentage = 16 #(move x% best of parents directly to the new population)\n",
    "        self.pc = 0.65 #(crossover probability)\n",
    "        self.pm = 0.05  #(mutation probability)\n",
    "        \n",
    "        self.chromosomes = self.generateInitialPopulation()\n",
    "        \n",
    "        self.goalReached = 0\n",
    "        self.ans = []\n",
    "        \n",
    "    def generateInitialPopulation(self):\n",
    "        initPop = []\n",
    "        for t in range(self.popSize):\n",
    "            chromosome = []\n",
    "            for i in range(self.doctors):\n",
    "                row = []\n",
    "                for j in range(self.days):\n",
    "                    row.append(choice(['m', 'e', 'n', 'o'])) #morning, evening, night, off\n",
    "                chromosome.append(row)\n",
    "            \n",
    "                \n",
    "            #for i in range(self.doctors):\n",
    "            #    for j in range(self.days):\n",
    "            #        print(chromosome[i][j], end = \" \")\n",
    "            #    print()\n",
    "            \n",
    "            #print()\n",
    "            \n",
    "            initPop.append(chromosome)\n",
    "        \n",
    "        \n",
    "        return initPop\n",
    "        \n",
    "    \n",
    "    def crossOver(self, chromosome1, chromosome2):\n",
    "            \n",
    "        col = [0] * self.days #col[i] = X: pick that column from parX\n",
    "        for t in range(self.crossOverPoints):\n",
    "            colNum = random.randint(0, self.days - 1)\n",
    "            prob = random.random()\n",
    "            if (prob < self.pc):\n",
    "                col[colNum] = 1 - col[colNum]\n",
    "\n",
    "        child = []\n",
    "        for i in range(self.doctors):\n",
    "            row = []\n",
    "            for j in range(self.days):\n",
    "                if (col[j] == 0):\n",
    "                    row.append(chromosome1[i][j])\n",
    "                else:\n",
    "                    row.append(chromosome2[i][j])\n",
    "\n",
    "            child.append(row)\n",
    "            \n",
    "        return child\n",
    "        \n",
    "                \n",
    "    def mutate(self, chromosome):\n",
    "        for i in range(self.doctors):\n",
    "            for j in range(self.days):\n",
    "                prob = random.random()\n",
    "                if (prob < self.pm):\n",
    "                    chromosome[i][j] = choice(['m', 'e', 'n', 'o'])\n",
    "        \n",
    "        return chromosome\n",
    "        \n",
    "        \n",
    "    def calculateCost(self, chromosome):\n",
    "        c1 = 0 #number of violations on capacities for each doctor\n",
    "\n",
    "        \n",
    "        for i in range(self.doctors):\n",
    "            morning = chromosome[i].count('m')\n",
    "            evening = chromosome[i].count('e')\n",
    "            night = chromosome[i].count('n')\n",
    "            if (morning + evening + night > self.maxCapacity):\n",
    "                c1 += 1\n",
    "        \n",
    "        c2 = 0 #min-max violations on each shift\n",
    "        for j in range(self.days):\n",
    "            morning = 0\n",
    "            evening = 0\n",
    "            night = 0\n",
    "            for i in range(self.doctors):\n",
    "                morning += (chromosome[i][j] == 'm')\n",
    "                evening += (chromosome[i][j] == 'e')\n",
    "                night += (chromosome[i][j] == 'n')\n",
    "            \n",
    "            if (not (self.allShifts[j][0][0] <= morning and morning <= self.allShifts[j][0][1]) ):\n",
    "                c2 += 1\n",
    "                \n",
    "            if (not (self.allShifts[j][1][0] <= evening and evening <= self.allShifts[j][1][1]) ):\n",
    "                c2 += 1\n",
    "                \n",
    "            if (not (self.allShifts[j][2][0] <= night and night <= self.allShifts[j][2][1]) ):\n",
    "                c2 += 1\n",
    "        \n",
    "        c3 = 0 #violations on shifts\n",
    "        for i in range(self.doctors):\n",
    "            for j in range(self.days):\n",
    "                if (j >= 1):\n",
    "                    c3 += (chromosome[i][j] == 'm' and chromosome[i][j - 1] == 'n')\n",
    "                    c3 += (chromosome[i][j] == 'e' and chromosome[i][j - 1] == 'n')\n",
    "                if (j >= 2):\n",
    "                    c3 += (chromosome[i][j] == 'n' and chromosome[i][j - 1] == 'n' and chromosome[i][j - 2] == 'n')\n",
    "        \n",
    "        \n",
    "        \n",
    "        w1, w2, w3 = 1, 1, 1\n",
    "        \n",
    "        return w1 * c1 + w2 * c2 + w3 * c3\n",
    "    \n",
    "    \n",
    "    def generateNewPopulation(self):\n",
    "        curPop = self.chromosomes\n",
    "        \n",
    "        curChromosomes = []\n",
    "        for chromosome in self.chromosomes:\n",
    "            #print(\"current chromosome:\")\n",
    "            #print(chromosome)\n",
    "            curChromosomes.append((self.calculateCost(chromosome), chromosome))\n",
    "        \n",
    "        curChromosomes.sort() #based on cost\n",
    "        \n",
    "        cost = curChromosomes[0][0]\n",
    "        #print(cost)\n",
    "        \n",
    "        goodChromosomes = curChromosomes[:floor((self.elitismPercentage / 100) * (self.popSize))]\n",
    "        if (curChromosomes[0][0] == 0): #no violations\n",
    "            self.goalReached = 1\n",
    "            self.ans = curChromosomes[0][1]\n",
    "            return\n",
    "        \n",
    "        \n",
    "        \n",
    "        newPop = [chromosome[1] for chromosome in goodChromosomes]\n",
    "        \n",
    "        while (len(newPop) < self.popSize):\n",
    "            par0, par1 = random.sample(goodChromosomes, 2)\n",
    "            child = self.crossOver(par0[1], par1[1])\n",
    "            mutatedChild = self.mutate(child)\n",
    "            \n",
    "            newPop.append(mutatedChild)\n",
    "            \n",
    "        return newPop\n",
    "    \n",
    "    \n",
    "    def schedule(self): \n",
    "        while (not(self.goalReached)):\n",
    "            newPop = self.generateNewPopulation()\n",
    "            self.chromosomes = newPop\n",
    "        print(self.goalReached)\n",
    "        return self.ans"
   ]
  },
  {
   "cell_type": "code",
   "execution_count": 158,
   "metadata": {},
   "outputs": [
    {
     "data": {
      "text/plain": [
       "[5, 1, 5, 20, 5]"
      ]
     },
     "execution_count": 158,
     "metadata": {},
     "output_type": "execute_result"
    }
   ],
   "source": [
    "a = [5, 1, 5, 20, 5]\n",
    "a"
   ]
  },
  {
   "cell_type": "markdown",
   "metadata": {},
   "source": [
    "<h2 style = \"font-size: 25px;\">Execution</h2>"
   ]
  },
  {
   "cell_type": "code",
   "execution_count": 166,
   "metadata": {},
   "outputs": [
    {
     "name": "stdout",
     "output_type": "stream",
     "text": [
      "10\n",
      "[0, 1, 2, 3, 4, 5, 6]\n",
      "8\n",
      "[([2, 5], [1, 2], [2, 3]), ([1, 4], [2, 2], [1, 3]), ([1, 5], [1, 5], [1, 1]), ([1, 1], [1, 2], [3, 3]), ([1, 2], [0, 1], [1, 1]), ([1, 1], [0, 1], [1, 3]), ([2, 2], [1, 1], [1, 1]), ([0, 1], [1, 2], [2, 2]), ([0, 1], [0, 2], [0, 3]), ([1, 2], [1, 1], [2, 3])]\n",
      "1\n",
      "[['e', 'e', 'e', 'n', 'o', 'o', 'e', 'e', 'o', 'n'], ['m', 'o', 'e', 'n', 'o', 'o', 'o', 'o', 'o', 'm'], ['n', 'o', 'm', 'o', 'o', 'o', 'm', 'o', 'n', 'n'], ['m', 'e', 'n', 'o', 'm', 'n', 'o', 'n', 'o', 'n'], ['m', 'o', 'o', 'm', 'o', 'e', 'm', 'm', 'o', 'o'], ['n', 'n', 'o', 'n', 'n', 'o', 'n', 'o', 'e', 'e'], ['m', 'm', 'm', 'e', 'm', 'm', 'o', 'n', 'n', 'o']]\n",
      "e e e n o o e e o n \n",
      "m o e n o o o o o m \n",
      "n o m o o o m o n n \n",
      "m e n o m n o n o n \n",
      "m o o m o e m m o o \n",
      "n n o n n o n o e e \n",
      "m m m e m m o n n o \n",
      "\n",
      "test 1:  0.47 sec\n"
     ]
    }
   ],
   "source": [
    "import time\n",
    "\n",
    "fileInfo1 = readInput(testFile1)\n",
    "\n",
    "print(fileInfo1[0])\n",
    "print(fileInfo1[1])\n",
    "print(fileInfo1[2])\n",
    "print(fileInfo1[3])\n",
    "\n",
    "start = time.time()\n",
    "\n",
    "scheduler = JobScheduler(fileInfo1)\n",
    "ans = scheduler.schedule()\n",
    "\n",
    "print(ans)\n",
    "\n",
    "for i in range(len(ans)):\n",
    "    for j in range(len(ans[0])):\n",
    "        print(ans[i][j], end = \" \")\n",
    "    print()\n",
    "print()\n",
    "\n",
    "end = time.time()\n",
    "\n",
    "print(\"test 1: \", '%.2f'%(end - start), 'sec')"
   ]
  },
  {
   "cell_type": "code",
   "execution_count": 167,
   "metadata": {},
   "outputs": [
    {
     "name": "stdout",
     "output_type": "stream",
     "text": [
      "1\n",
      "Test 2:  5.27 sec\n"
     ]
    }
   ],
   "source": [
    "fileInfo2 = readInput(testFile2)\n",
    "\n",
    "start = time.time()\n",
    "\n",
    "scheduler = JobScheduler(fileInfo2)\n",
    "scheduler.schedule()\n",
    "\n",
    "end = time.time()\n",
    "\n",
    "print(\"Test 2: \", '%.2f'%(end - start), 'sec')"
   ]
  },
  {
   "cell_type": "code",
   "execution_count": null,
   "metadata": {},
   "outputs": [],
   "source": []
  }
 ],
 "metadata": {
  "kernelspec": {
   "display_name": "Python 3",
   "language": "python",
   "name": "python3"
  },
  "language_info": {
   "codemirror_mode": {
    "name": "ipython",
    "version": 3
   },
   "file_extension": ".py",
   "mimetype": "text/x-python",
   "name": "python",
   "nbconvert_exporter": "python",
   "pygments_lexer": "ipython3",
   "version": "3.7.6"
  }
 },
 "nbformat": 4,
 "nbformat_minor": 4
}
