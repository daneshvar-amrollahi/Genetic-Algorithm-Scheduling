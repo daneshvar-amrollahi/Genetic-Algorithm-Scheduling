{
 "cells": [
  {
   "cell_type": "markdown",
   "metadata": {},
   "source": [
    "<h1 style = \"font-size: 30px; text-align: center;\">AI Genetic Hands On</h1>\n",
    "<h2 style = \"font-size: 25px; text-align: center;\">Hospital Job Scheduling</h2>\n",
    "<h2 style = \"font-size: 25px; text-align: center; color: #666\">Name: ?</h2>\n",
    "<h2 style = \"font-size: 25px; text-align: center; color: #666\">Student Id: ?</h2>\n",
    "<h4 style=\"text-align: center\">Spring 1400</h4>"
   ]
  },
  {
   "cell_type": "markdown",
   "metadata": {},
   "source": [
    "<h2 style = \"font-size: 25px;\">Notes</h2>\n",
    "\n",
    "<h3>Tests: </h3>\n",
    "\n",
    "<p style=\"text-indent :2em;\"><b>Test1: </b><mark>Average time < 15s</mark></p>\n",
    "<p style=\"text-indent :2em;\"><b>Test2: </b><mark>Average time < 60s</mark></p>\n",
    "    \n",
    "\n",
    "<h3>Outputs: </h3>\n",
    "<p style=\"text-indent :2em;\">Respectively <mark>output1.txt</mark> and <mark>output2.txt</mark></p>\n",
    "\n",
    "<br>"
   ]
  },
  {
   "cell_type": "markdown",
   "metadata": {},
   "source": [
    "<h2 style = \"font-size: 25px;\">Test Files</h2>"
   ]
  },
  {
   "cell_type": "code",
   "execution_count": null,
   "metadata": {},
   "outputs": [],
   "source": [
    "testFile1 = \"test1.txt\"\n",
    "testFile2 = \"test2.txt\""
   ]
  },
  {
   "cell_type": "markdown",
   "metadata": {},
   "source": [
    "<h2 style = \"font-size: 25px;\">Reading Test File Content</h2>"
   ]
  },
  {
   "cell_type": "code",
   "execution_count": null,
   "metadata": {},
   "outputs": [],
   "source": [
    "def readInput(testFile) :\n",
    "    file = open(testFile, 'r+')\n",
    "    fileList = file.readlines()\n",
    "    fileList = [s.replace('\\n', '') for s in fileList]\n",
    "    \n",
    "    [days, doctors] = [int(i) for i in fileList[0].split()]\n",
    "    maxCapacity = int(fileList[1])\n",
    "    \n",
    "    allShifts = []\n",
    "    for i in range(2, days + 2):\n",
    "        dayRequirements = fileList[i].split()\n",
    "        morningReqs = [int(i) for i in dayRequirements[0].split(\",\")]\n",
    "        eveningReqs = [int(i) for i in dayRequirements[1].split(\",\")]\n",
    "        nightReqs = [int(i) for i in dayRequirements[2].split(\",\")]\n",
    "        \n",
    "        allShifts.append((morningReqs, eveningReqs, nightReqs))\n",
    "\n",
    "    file.close()\n",
    "    return [days, list(range(doctors)), maxCapacity, allShifts]"
   ]
  },
  {
   "cell_type": "markdown",
   "metadata": {},
   "source": [
    "<h2 style = \"font-size: 25px;\">Job Scheduler</h2>"
   ]
  },
  {
   "cell_type": "code",
   "execution_count": null,
   "metadata": {},
   "outputs": [],
   "source": [
    "class JobScheduler:\n",
    "    def __init__(self, fileInfo):\n",
    "        self.days = fileInfo[0]\n",
    "        self.doctors = len(fileInfo[1])\n",
    "        self.doctorsIds = fileInfo[1]\n",
    "        self.maxCapacity = fileInfo[2]\n",
    "        self.allShifts = fileInfo[3]\n",
    "        \n",
    "        self.chromosomes = self.generateInitialPopulation()\n",
    "\n",
    "        # You can use these values for your genetic algorithm\n",
    "        # self.popSize = 300\n",
    "        # self.crossOverPoints = (relative to number of days)\n",
    "        # self.elitismPercentage = 16 (move x% best of parents directly to the new population)\n",
    "        # self.pc = 0.65 (crossover probability)\n",
    "        # self.pm = 0.4  (mutation probability)\n",
    "        \n",
    "        \n",
    "    def generateInitialPopulation(self):\n",
    "        # Todo\n",
    "        return\n",
    "        \n",
    "    \n",
    "    def crossOver(self, chromosome1, chromosome2):\n",
    "        # Todo\n",
    "        return\n",
    "        \n",
    "                \n",
    "    def mutate(self, chromosome):\n",
    "        # Todo\n",
    "        return\n",
    "        \n",
    "        \n",
    "    def calculateFitness(self, chromosome):\n",
    "        # Todo\n",
    "        return\n",
    "    \n",
    "    \n",
    "    def generateNewPopulation(self):\n",
    "        # Todo\n",
    "        return\n",
    "    \n",
    "    \n",
    "    def schedule(self): \n",
    "        #while (!goal_reached)\n",
    "        #    generateNewPopulation()\n",
    "        return"
   ]
  },
  {
   "cell_type": "markdown",
   "metadata": {},
   "source": [
    "<h2 style = \"font-size: 25px;\">Execution</h2>"
   ]
  },
  {
   "cell_type": "code",
   "execution_count": null,
   "metadata": {},
   "outputs": [],
   "source": [
    "import time\n",
    "\n",
    "fileInfo1 = readInput(testFile1)\n",
    "\n",
    "start = time.time()\n",
    "\n",
    "scheduler = JobScheduler(fileInfo1)\n",
    "scheduler.schedule()\n",
    "\n",
    "end = time.time()\n",
    "\n",
    "print(\"test 1: \", '%.2f'%(end - start), 'sec')"
   ]
  },
  {
   "cell_type": "code",
   "execution_count": null,
   "metadata": {},
   "outputs": [],
   "source": [
    "fileInfo2 = readInput(testFile2)\n",
    "\n",
    "start = time.time()\n",
    "\n",
    "scheduler = JobScheduler(fileInfo2)\n",
    "scheduler.schedule()\n",
    "\n",
    "end = time.time()\n",
    "\n",
    "print(\"Test 2: \", '%.2f'%(end - start), 'sec')"
   ]
  },
  {
   "cell_type": "code",
   "execution_count": null,
   "metadata": {},
   "outputs": [],
   "source": []
  }
 ],
 "metadata": {
  "kernelspec": {
   "display_name": "Python 3",
   "language": "python",
   "name": "python3"
  },
  "language_info": {
   "codemirror_mode": {
    "name": "ipython",
    "version": 3
   },
   "file_extension": ".py",
   "mimetype": "text/x-python",
   "name": "python",
   "nbconvert_exporter": "python",
   "pygments_lexer": "ipython3",
   "version": "3.6.9"
  }
 },
 "nbformat": 4,
 "nbformat_minor": 4
}
